{
 "cells": [
  {
   "cell_type": "markdown",
   "metadata": {},
   "source": [
    "# Neural networks with PyTorch\n",
    "\n",
    "Deep learning networks tend to be massive with dozens or hundreds of layers, that's where the term \"deep\" comes from. You can build one of these deep networks using only weight matrices as we did in the previous notebook, but in general it's very cumbersome and difficult to implement. PyTorch has a nice module `nn` that provides a nice way to efficiently build large neural networks."
   ]
  },
  {
   "cell_type": "code",
   "execution_count": 1,
   "metadata": {},
   "outputs": [],
   "source": [
    "# Import necessary packages\n",
    "\n",
    "%matplotlib inline\n",
    "%config InlineBackend.figure_format = 'retina'\n",
    "\n",
    "import numpy as np\n",
    "import torch\n",
    "\n",
    "import helper\n",
    "\n",
    "import matplotlib.pyplot as plt"
   ]
  },
  {
   "cell_type": "markdown",
   "metadata": {},
   "source": [
    "\n",
    "Now we're going to build a larger network that can solve a (formerly) difficult problem, identifying text in an image. Here we'll use the MNIST dataset which consists of greyscale handwritten digits. Each image is 28x28 pixels, you can see a sample below\n",
    "\n",
    "<img src='assets/mnist.png'>\n",
    "\n",
    "Our goal is to build a neural network that can take one of these images and predict the digit in the image.\n",
    "\n",
    "First up, we need to get our dataset. This is provided through the `torchvision` package. The code below will download the MNIST dataset, then create training and test datasets for us. Don't worry too much about the details here, you'll learn more about this later."
   ]
  },
  {
   "cell_type": "code",
   "execution_count": 2,
   "metadata": {},
   "outputs": [
    {
     "name": "stdout",
     "output_type": "stream",
     "text": [
      "Downloading http://yann.lecun.com/exdb/mnist/train-images-idx3-ubyte.gz to /Users/i339205/.pytorch/MNIST_data/MNIST/raw/train-images-idx3-ubyte.gz\n"
     ]
    },
    {
     "data": {
      "application/vnd.jupyter.widget-view+json": {
       "model_id": "6b40869fa6504971b4468f32dc7e06ea",
       "version_major": 2,
       "version_minor": 0
      },
      "text/plain": [
       "HBox(children=(IntProgress(value=1, bar_style='info', max=1), HTML(value='')))"
      ]
     },
     "metadata": {},
     "output_type": "display_data"
    },
    {
     "name": "stdout",
     "output_type": "stream",
     "text": [
      "Extracting /Users/i339205/.pytorch/MNIST_data/MNIST/raw/train-images-idx3-ubyte.gz to /Users/i339205/.pytorch/MNIST_data/MNIST/raw\n",
      "Downloading http://yann.lecun.com/exdb/mnist/train-labels-idx1-ubyte.gz to /Users/i339205/.pytorch/MNIST_data/MNIST/raw/train-labels-idx1-ubyte.gz\n"
     ]
    },
    {
     "data": {
      "application/vnd.jupyter.widget-view+json": {
       "model_id": "53ce395041bd4b76986a7ec3b2757ef2",
       "version_major": 2,
       "version_minor": 0
      },
      "text/plain": [
       "HBox(children=(IntProgress(value=1, bar_style='info', max=1), HTML(value='')))"
      ]
     },
     "metadata": {},
     "output_type": "display_data"
    },
    {
     "name": "stdout",
     "output_type": "stream",
     "text": [
      "Extracting /Users/i339205/.pytorch/MNIST_data/MNIST/raw/train-labels-idx1-ubyte.gz to /Users/i339205/.pytorch/MNIST_data/MNIST/raw\n",
      "Downloading http://yann.lecun.com/exdb/mnist/t10k-images-idx3-ubyte.gz to /Users/i339205/.pytorch/MNIST_data/MNIST/raw/t10k-images-idx3-ubyte.gz\n",
      "\n"
     ]
    },
    {
     "data": {
      "application/vnd.jupyter.widget-view+json": {
       "model_id": "3ec820000edb46cabf857d71f969479e",
       "version_major": 2,
       "version_minor": 0
      },
      "text/plain": [
       "HBox(children=(IntProgress(value=1, bar_style='info', max=1), HTML(value='')))"
      ]
     },
     "metadata": {},
     "output_type": "display_data"
    },
    {
     "name": "stdout",
     "output_type": "stream",
     "text": [
      "Extracting /Users/i339205/.pytorch/MNIST_data/MNIST/raw/t10k-images-idx3-ubyte.gz to /Users/i339205/.pytorch/MNIST_data/MNIST/raw\n",
      "Downloading http://yann.lecun.com/exdb/mnist/t10k-labels-idx1-ubyte.gz to /Users/i339205/.pytorch/MNIST_data/MNIST/raw/t10k-labels-idx1-ubyte.gz\n"
     ]
    },
    {
     "data": {
      "application/vnd.jupyter.widget-view+json": {
       "model_id": "d949aae7b78f465ab7fcf63cdb9af27a",
       "version_major": 2,
       "version_minor": 0
      },
      "text/plain": [
       "HBox(children=(IntProgress(value=1, bar_style='info', max=1), HTML(value='')))"
      ]
     },
     "metadata": {},
     "output_type": "display_data"
    },
    {
     "name": "stdout",
     "output_type": "stream",
     "text": [
      "Extracting /Users/i339205/.pytorch/MNIST_data/MNIST/raw/t10k-labels-idx1-ubyte.gz to /Users/i339205/.pytorch/MNIST_data/MNIST/raw\n",
      "Processing...\n",
      "Done!\n"
     ]
    }
   ],
   "source": [
    "### Run this cell\n",
    "\n",
    "from torchvision import datasets, transforms\n",
    "\n",
    "# Define a transform to normalize the data\n",
    "transform = transforms.Compose([transforms.ToTensor(),\n",
    "                              transforms.Normalize((0.5,), (0.5,)),\n",
    "                              ])\n",
    "\n",
    "# Download and load the training data\n",
    "trainset = datasets.MNIST('~/.pytorch/MNIST_data/', download=True, train=True, transform=transform)\n",
    "trainloader = torch.utils.data.DataLoader(trainset, batch_size=64, shuffle=True)"
   ]
  },
  {
   "cell_type": "markdown",
   "metadata": {},
   "source": [
    "We have the training data loaded into `trainloader` and we make that an iterator with `iter(trainloader)`. Later, we'll use this to loop through the dataset for training, like\n",
    "\n",
    "```python\n",
    "for image, label in trainloader:\n",
    "    ## do things with images and labels\n",
    "```\n",
    "\n",
    "You'll notice I created the `trainloader` with a batch size of 64, and `shuffle=True`. The batch size is the number of images we get in one iteration from the data loader and pass through our network, often called a *batch*. And `shuffle=True` tells it to shuffle the dataset every time we start going through the data loader again. But here I'm just grabbing the first batch so we can check out the data. We can see below that `images` is just a tensor with size `(64, 1, 28, 28)`. So, 64 images per batch, 1 color channel, and 28x28 images."
   ]
  },
  {
   "cell_type": "code",
   "execution_count": 3,
   "metadata": {},
   "outputs": [
    {
     "name": "stdout",
     "output_type": "stream",
     "text": [
      "<class 'torch.Tensor'>\n",
      "torch.Size([64, 1, 28, 28])\n",
      "torch.Size([64])\n"
     ]
    }
   ],
   "source": [
    "dataiter = iter(trainloader)\n",
    "images, labels = dataiter.next()\n",
    "print(type(images))\n",
    "print(images.shape)\n",
    "print(labels.shape)"
   ]
  },
  {
   "cell_type": "markdown",
   "metadata": {},
   "source": [
    "This is what one of the images looks like. "
   ]
  },
  {
   "cell_type": "code",
   "execution_count": 4,
   "metadata": {},
   "outputs": [
    {
     "data": {
      "image/png": "[encoded data removed]",
      "text/plain": [
       "<Figure size 432x288 with 1 Axes>"
      ]
     },
     "metadata": {
      "image/png": {
       "height": 248,
       "width": 251
      },
      "needs_background": "light"
     },
     "output_type": "display_data"
    }
   ],
   "source": [
    "plt.imshow(images[1].numpy().squeeze(), cmap='Greys_r');"
   ]
  },
  {
   "cell_type": "markdown",
   "metadata": {},
   "source": [
    "First, let's try to build a simple network for this dataset using weight matrices and matrix multiplications. Then, we'll see how to do it using PyTorch's `nn` module which provides a much more convenient and powerful method for defining network architectures.\n",
    "\n",
    "The networks you've seen so far are called *fully-connected* or *dense* networks. Each unit in one layer is connected to each unit in the next layer. In fully-connected networks, the input to each layer must be a one-dimensional vector (which can be stacked into a 2D tensor as a batch of multiple examples). However, our images are 28x28 2D tensors, so we need to convert them into 1D vectors. Thinking about sizes, we need to convert the batch of images with shape `(64, 1, 28, 28)` to a have a shape of `(64, 784)`, 784 is 28 times 28. This is typically called *flattening*, we flattened the 2D images into 1D vectors.\n",
    "\n",
    "Previously you built a network with one output unit. Here we need 10 output units, one for each digit. We want our network to predict the digit shown in an image, so what we'll do is calculate probabilities that the image is of any one digit or class. This ends up being a discrete probability distribution over the classes (digits) that tells us the most likely class for the image. That means we need 10 output units for the 10 classes (digits). We'll see how to convert the network output into a probability distribution next.\n",
    "\n",
    "> **Exercise:** Flatten the batch of images `images`. Then build a multi-layer network with 784 input units, 256 hidden units, and 10 output units using random tensors for the weights and biases. For now, use a sigmoid activation for the hidden layer. Leave the output layer without an activation, we'll add one that gives us a probability distribution next."
   ]
  },
  {
   "cell_type": "code",
   "execution_count": 8,
   "metadata": {},
   "outputs": [],
   "source": [
    "def activation(x):\n",
    "    return 1/(1+torch.exp(-x))"
   ]
  },
  {
   "cell_type": "code",
   "execution_count": 12,
   "metadata": {},
   "outputs": [
    {
     "name": "stdout",
     "output_type": "stream",
     "text": [
      "The features have shape: torch.Size([64, 784])\n",
      "torch.Size([64, 10])\n",
      "tensor([[1.0394e-10, 9.9999e-01, 4.1209e-01, 2.6073e-04, 9.9652e-01, 2.7955e-03,\n",
      "         4.5414e-04, 3.5979e-01, 3.9336e-08, 7.6482e-01],\n",
      "        [8.1287e-04, 2.3948e-02, 1.3847e-02, 1.8580e-02, 9.8644e-01, 9.9999e-01,\n",
      "         2.2781e-01, 9.9996e-01, 3.2723e-08, 6.5812e-01],\n",
      "        [9.5847e-08, 2.6957e-03, 9.9229e-01, 8.9055e-06, 1.2552e-02, 1.0000e+00,\n",
      "         1.6948e-04, 9.0796e-02, 5.9012e-05, 9.9430e-01],\n",
      "        [6.9889e-07, 1.1950e-02, 5.5389e-03, 3.4788e-06, 9.9998e-01, 4.5899e-01,\n",
      "         4.5278e-03, 9.9675e-01, 2.3201e-10, 7.0291e-02],\n",
      "        [4.2642e-06, 1.8190e-02, 9.9990e-01, 2.6336e-05, 9.9860e-01, 9.9993e-01,\n",
      "         5.5723e-03, 9.1905e-01, 2.9160e-05, 1.3552e-04],\n",
      "        [1.0046e-10, 7.4091e-01, 9.7872e-03, 2.2982e-08, 8.3983e-01, 9.9999e-01,\n",
      "         1.6345e-02, 5.2617e-02, 2.3921e-07, 8.0476e-01],\n",
      "        [1.5748e-10, 9.5931e-05, 9.8954e-01, 3.5670e-06, 1.0000e+00, 8.8475e-01,\n",
      "         2.5017e-03, 9.9304e-01, 1.1734e-03, 7.3944e-03],\n",
      "        [2.1160e-07, 1.9436e-02, 4.6379e-05, 6.6930e-04, 1.0000e+00, 9.7318e-01,\n",
      "         1.6971e-04, 9.3180e-01, 2.8320e-08, 8.2824e-05],\n",
      "        [1.0230e-06, 5.8424e-03, 6.2853e-04, 8.3390e-05, 9.9931e-01, 9.9882e-01,\n",
      "         3.2698e-04, 9.9996e-01, 4.5104e-07, 9.5993e-01],\n",
      "        [3.0296e-06, 4.7891e-02, 9.9985e-01, 4.0856e-08, 9.4772e-01, 9.9996e-01,\n",
      "         1.2736e-03, 9.9917e-01, 1.0518e-07, 7.2509e-01],\n",
      "        [1.6752e-05, 4.4035e-08, 1.6400e-06, 2.5861e-01, 9.9741e-01, 9.9571e-01,\n",
      "         4.7267e-02, 6.4703e-01, 1.2318e-04, 1.6369e-01],\n",
      "        [2.7064e-07, 6.6146e-04, 9.9804e-01, 5.8180e-06, 9.9278e-01, 6.3249e-01,\n",
      "         4.6125e-04, 9.9983e-01, 4.7690e-05, 9.4785e-02],\n",
      "        [1.4779e-09, 2.6476e-06, 3.3502e-02, 6.3410e-07, 9.9997e-01, 9.9535e-01,\n",
      "         1.9957e-02, 9.9296e-01, 5.2249e-06, 1.1132e-01],\n",
      "        [3.1396e-04, 1.3783e-06, 4.0790e-01, 4.6913e-03, 1.0000e+00, 9.9766e-01,\n",
      "         6.1299e-01, 4.4128e-01, 1.7729e-08, 2.2498e-03],\n",
      "        [8.3141e-06, 7.2079e-01, 1.1055e-01, 2.2112e-05, 9.9993e-01, 9.9991e-01,\n",
      "         9.0420e-02, 9.9965e-01, 5.5082e-05, 9.8548e-01],\n",
      "        [9.8345e-08, 7.2318e-01, 9.9649e-01, 5.6282e-06, 9.9875e-01, 9.9877e-01,\n",
      "         6.9405e-04, 4.6974e-01, 3.1489e-04, 9.7750e-01],\n",
      "        [9.3177e-03, 9.9956e-01, 1.8347e-01, 7.5288e-04, 9.9733e-01, 9.9974e-01,\n",
      "         9.7722e-01, 8.9810e-01, 1.8676e-06, 5.7528e-02],\n",
      "        [3.9726e-05, 2.4099e-06, 3.2258e-02, 4.3424e-04, 9.9993e-01, 9.9999e-01,\n",
      "         9.9975e-01, 3.2631e-01, 4.0697e-08, 3.9623e-03],\n",
      "        [9.5644e-08, 1.0451e-05, 2.7070e-01, 6.8618e-05, 9.9949e-01, 2.3532e-01,\n",
      "         8.2936e-09, 9.8176e-01, 4.0355e-01, 5.2033e-04],\n",
      "        [1.2462e-04, 4.4849e-02, 4.9862e-08, 4.2978e-09, 1.0000e+00, 1.0000e+00,\n",
      "         4.3072e-01, 9.9866e-01, 2.4713e-07, 6.1553e-03],\n",
      "        [9.4671e-06, 4.9127e-04, 7.1243e-01, 1.4298e-09, 9.9927e-01, 9.9603e-01,\n",
      "         6.6438e-02, 6.0647e-01, 1.3441e-05, 8.4233e-02],\n",
      "        [7.0454e-07, 6.8226e-04, 8.5944e-01, 4.2017e-04, 9.9695e-01, 9.9064e-01,\n",
      "         9.9301e-01, 9.8939e-01, 1.3312e-07, 5.9757e-03],\n",
      "        [2.8181e-06, 2.3254e-04, 7.8710e-02, 1.5068e-04, 9.9999e-01, 9.9952e-01,\n",
      "         1.2106e-06, 5.4950e-01, 3.5311e-06, 3.9439e-05],\n",
      "        [6.5713e-05, 5.3124e-05, 2.7446e-02, 9.6016e-01, 1.0000e+00, 9.9914e-01,\n",
      "         1.2729e-01, 9.9998e-01, 4.0290e-05, 8.4646e-02],\n",
      "        [6.5768e-05, 2.0294e-04, 5.7173e-05, 5.0440e-07, 2.0121e-01, 9.9983e-01,\n",
      "         1.2760e-03, 6.9208e-01, 2.2426e-04, 4.7732e-01],\n",
      "        [8.2854e-10, 1.7577e-02, 1.2392e-02, 3.6927e-13, 3.7651e-02, 9.9938e-01,\n",
      "         5.6498e-02, 9.5812e-01, 3.8091e-08, 5.4070e-03],\n",
      "        [8.1303e-06, 1.1230e-08, 9.9988e-01, 2.9294e-09, 8.5214e-01, 1.0000e+00,\n",
      "         3.2317e-02, 9.5497e-01, 1.6874e-04, 6.6557e-01],\n",
      "        [5.9400e-04, 8.4403e-03, 1.8480e-01, 3.4153e-04, 9.9998e-01, 9.9914e-01,\n",
      "         8.4953e-01, 8.0704e-01, 1.1423e-05, 5.0805e-01],\n",
      "        [7.5477e-09, 1.1328e-05, 8.5066e-03, 7.0121e-02, 1.0000e+00, 9.9999e-01,\n",
      "         4.0590e-02, 7.2463e-01, 1.3091e-05, 4.5212e-03],\n",
      "        [6.7967e-06, 1.3634e-04, 1.8829e-01, 2.6719e-07, 9.9906e-01, 9.9999e-01,\n",
      "         1.1395e-04, 9.9946e-01, 1.1073e-07, 1.1095e-03],\n",
      "        [6.3170e-08, 1.9086e-03, 5.5391e-04, 1.4636e-05, 7.1444e-01, 9.6698e-01,\n",
      "         4.9003e-01, 9.8952e-01, 3.3034e-06, 2.6145e-02],\n",
      "        [3.5543e-10, 1.4569e-06, 7.8664e-03, 7.7063e-04, 9.9966e-01, 9.5954e-01,\n",
      "         4.2061e-06, 1.0000e+00, 1.1928e-06, 7.2948e-02],\n",
      "        [3.7854e-01, 8.0757e-03, 9.9167e-01, 2.9982e-04, 1.0000e+00, 9.9738e-01,\n",
      "         2.6549e-01, 1.0000e+00, 3.7006e-04, 1.0226e-06],\n",
      "        [1.2698e-07, 9.6291e-01, 9.9996e-01, 7.7386e-05, 9.9847e-01, 5.4599e-01,\n",
      "         1.8762e-01, 6.0731e-01, 8.9657e-04, 8.8130e-01],\n",
      "        [1.3249e-04, 9.4781e-04, 9.4363e-01, 3.7973e-06, 9.9994e-01, 1.0000e+00,\n",
      "         5.4339e-03, 2.5598e-03, 1.1106e-04, 1.4509e-02],\n",
      "        [3.5513e-04, 2.4226e-03, 6.6822e-04, 6.4027e-09, 9.9568e-01, 9.8798e-01,\n",
      "         8.2901e-03, 9.9793e-01, 1.1226e-05, 9.9795e-01],\n",
      "        [3.9841e-08, 1.7740e-03, 9.7669e-01, 4.1068e-04, 9.9997e-01, 5.7886e-01,\n",
      "         2.5106e-05, 9.9161e-01, 2.1145e-07, 3.9492e-01],\n",
      "        [4.4204e-11, 1.5217e-08, 3.4182e-04, 9.6011e-09, 9.9830e-01, 9.9999e-01,\n",
      "         9.1445e-01, 9.9999e-01, 1.3670e-09, 7.0418e-04],\n",
      "        [5.1131e-04, 7.1003e-04, 9.6572e-01, 5.4714e-02, 9.5565e-01, 1.0000e+00,\n",
      "         9.6650e-01, 1.3583e-06, 1.0797e-05, 9.5920e-01],\n",
      "        [4.9966e-10, 5.1462e-03, 9.8826e-01, 3.7992e-03, 8.2122e-01, 9.1633e-01,\n",
      "         2.7016e-04, 1.0000e+00, 1.5538e-06, 3.1857e-01],\n",
      "        [3.5308e-10, 1.9257e-05, 9.9961e-01, 7.5814e-11, 9.3691e-01, 9.9994e-01,\n",
      "         6.7079e-05, 9.1293e-01, 3.2202e-09, 9.7109e-01],\n",
      "        [6.2701e-05, 3.0639e-04, 9.7264e-01, 2.1677e-04, 1.0000e+00, 9.4035e-01,\n",
      "         1.6713e-01, 8.4810e-01, 3.8942e-05, 1.3681e-03],\n",
      "        [8.9086e-07, 1.2127e-02, 9.2993e-01, 2.6652e-04, 9.9999e-01, 9.9841e-01,\n",
      "         3.1658e-01, 9.9307e-01, 3.4246e-05, 3.8984e-05],\n",
      "        [7.1472e-06, 2.0294e-05, 5.7334e-04, 5.0351e-02, 1.0000e+00, 9.9999e-01,\n",
      "         1.4134e-03, 9.8404e-01, 6.5120e-05, 2.5443e-04],\n",
      "        [3.0335e-03, 1.6919e-05, 9.8873e-05, 1.2464e-07, 9.7774e-01, 9.9928e-01,\n",
      "         8.3694e-04, 5.7308e-01, 1.8420e-03, 9.1582e-01],\n",
      "        [5.9978e-06, 1.0042e-07, 2.4725e-03, 1.6068e-02, 9.9944e-01, 9.9972e-01,\n",
      "         1.3056e-01, 9.4317e-01, 5.3734e-04, 7.3326e-02],\n",
      "        [3.2135e-06, 1.2156e-05, 8.6593e-01, 1.4279e-05, 9.9952e-01, 4.9281e-01,\n",
      "         8.1546e-07, 9.9609e-01, 1.8468e-01, 1.8215e-04],\n",
      "        [2.9241e-05, 3.8918e-05, 9.8756e-01, 3.4883e-01, 9.9610e-01, 9.9998e-01,\n",
      "         9.9083e-01, 9.9943e-01, 5.0743e-06, 9.9981e-01],\n",
      "        [1.5077e-07, 1.2644e-04, 5.3061e-02, 6.7894e-08, 9.9244e-01, 9.8281e-01,\n",
      "         5.8372e-04, 4.4021e-02, 5.1571e-02, 8.5680e-04],\n",
      "        [6.4074e-08, 8.2669e-03, 9.7096e-01, 5.7689e-04, 2.9490e-02, 9.9848e-01,\n",
      "         9.8867e-01, 1.6819e-04, 5.9861e-05, 9.9835e-01],\n",
      "        [5.9275e-07, 6.9647e-01, 2.7334e-05, 9.9910e-05, 9.2041e-01, 9.9950e-01,\n",
      "         6.1656e-02, 1.1444e-03, 1.1038e-06, 9.2357e-01],\n",
      "        [1.9485e-06, 8.7040e-01, 9.9797e-01, 3.2503e-02, 9.9602e-01, 8.8807e-01,\n",
      "         3.2360e-02, 1.2937e-03, 2.9392e-05, 9.9875e-01],\n",
      "        [5.5887e-06, 1.4586e-05, 9.8358e-03, 1.0192e-04, 9.9240e-01, 9.7154e-01,\n",
      "         3.8017e-03, 9.9998e-01, 6.4545e-07, 9.4385e-05],\n",
      "        [8.7662e-05, 1.2067e-06, 1.5709e-02, 2.1382e-03, 1.0000e+00, 9.9896e-01,\n",
      "         8.2734e-02, 9.7471e-01, 5.2198e-05, 1.1258e-04],\n",
      "        [7.0205e-10, 2.1776e-02, 1.5963e-01, 2.5747e-05, 9.5751e-01, 9.9996e-01,\n",
      "         1.2783e-04, 2.4724e-04, 1.2546e-08, 9.9073e-01],\n",
      "        [1.9673e-09, 1.5894e-01, 9.9805e-01, 6.7138e-08, 1.0000e+00, 9.9982e-01,\n",
      "         6.7427e-03, 9.8104e-01, 2.4470e-04, 3.4046e-01],\n",
      "        [6.9265e-10, 6.2032e-06, 8.9409e-03, 3.2720e-08, 9.1050e-01, 1.0000e+00,\n",
      "         9.9999e-01, 9.9991e-01, 2.3871e-07, 9.9514e-01],\n",
      "        [3.1890e-11, 3.0132e-02, 9.2568e-02, 2.7769e-07, 9.8846e-01, 9.9996e-01,\n",
      "         9.6006e-01, 4.5838e-03, 1.4212e-06, 8.8070e-04],\n",
      "        [2.5886e-09, 2.4081e-08, 1.5570e-02, 1.8563e-06, 9.1713e-01, 9.9992e-01,\n",
      "         2.1608e-01, 2.8830e-01, 1.5985e-05, 6.1578e-03],\n",
      "        [2.3680e-05, 5.2031e-02, 9.9843e-01, 5.9181e-06, 9.9912e-01, 9.9800e-01,\n",
      "         8.0022e-05, 4.0334e-01, 1.1623e-05, 8.5889e-01],\n",
      "        [2.2979e-10, 6.2287e-02, 2.0898e-03, 2.9486e-05, 9.9999e-01, 9.9430e-01,\n",
      "         2.0495e-04, 4.3845e-01, 6.7902e-05, 9.6513e-01],\n",
      "        [3.6250e-08, 6.1566e-04, 9.2215e-05, 1.5900e-01, 9.9818e-01, 9.9986e-01,\n",
      "         7.9688e-05, 1.2166e-02, 2.5266e-03, 2.0304e-02],\n",
      "        [3.0244e-08, 2.3915e-04, 5.4979e-01, 9.9874e-01, 1.0000e+00, 9.9533e-01,\n",
      "         6.7016e-06, 9.9568e-01, 2.0146e-04, 2.5931e-03],\n",
      "        [1.7131e-04, 1.5636e-05, 1.0836e-04, 6.6685e-08, 9.9540e-01, 9.9997e-01,\n",
      "         6.9292e-02, 9.0186e-02, 5.3730e-02, 5.2646e-02]])\n"
     ]
    }
   ],
   "source": [
    "\n",
    "features = torch.from_numpy(np.reshape(images.numpy(),[images.numpy().shape[0],-1]))\n",
    "\n",
    "print(\"The features have shape:\", features.shape)\n",
    "\n",
    "## Your solution\n",
    "torch.manual_seed(7)\n",
    "\n",
    "# Define the size of each layer in our network\n",
    "n_input = 784\n",
    "n_hidden = 256\n",
    "n_output = 10\n",
    "\n",
    "W1 = torch.randn(n_input,n_hidden)\n",
    "W2 = torch.randn(n_hidden,n_output)\n",
    "\n",
    "B1 = torch.randn((1,n_hidden))\n",
    "B2 = torch.randn((1,n_output))\n",
    "\n",
    "\n",
    "out = activation(torch.mm(activation(torch.mm(features,W1)+B1),W2)+B2)\n",
    "print(out.shape)\n",
    "print(out)"
   ]
  },
  {
   "cell_type": "markdown",
   "metadata": {},
   "source": [
    "Now we have 10 outputs for our network. We want to pass in an image to our network and get out a probability distribution over the classes that tells us the likely class(es) the image belongs to. Something that looks like this:\n",
    "<img src='assets/image_distribution.png' width=500px>\n",
    "\n",
    "Here we see that the probability for each class is roughly the same. This is representing an untrained network, it hasn't seen any data yet so it just returns a uniform distribution with equal probabilities for each class.\n",
    "\n",
    "To calculate this probability distribution, we often use the [**softmax** function](https://en.wikipedia.org/wiki/Softmax_function). Mathematically this looks like\n",
    "\n",
    "$$\n",
    "\\Large \\sigma(x_i) = \\cfrac{e^{x_i}}{\\sum_k^K{e^{x_k}}}\n",
    "$$\n",
    "\n",
    "What this does is squish each input $x_i$ between 0 and 1 and normalizes the values to give you a proper probability distribution where the probabilites sum up to one.\n",
    "\n",
    "> **Exercise:** Implement a function `softmax` that performs the softmax calculation and returns probability distributions for each example in the batch. Note that you'll need to pay attention to the shapes when doing this. If you have a tensor `a` with shape `(64, 10)` and a tensor `b` with shape `(64,)`, doing `a/b` will give you an error because PyTorch will try to do the division across the columns (called broadcasting) but you'll get a size mismatch. The way to think about this is for each of the 64 examples, you only want to divide by one value, the sum in the denominator. So you need `b` to have a shape of `(64, 1)`. This way PyTorch will divide the 10 values in each row of `a` by the one value in each row of `b`. Pay attention to how you take the sum as well. You'll need to define the `dim` keyword in `torch.sum`. Setting `dim=0` takes the sum across the rows while `dim=1` takes the sum across the columns."
   ]
  },
  {
   "cell_type": "code",
   "execution_count": 14,
   "metadata": {},
   "outputs": [
    {
     "name": "stdout",
     "output_type": "stream",
     "text": [
      "torch.Size([64, 10])\n",
      "tensor([1.0000, 1.0000, 1.0000, 1.0000, 1.0000, 1.0000, 1.0000, 1.0000, 1.0000,\n",
      "        1.0000, 1.0000, 1.0000, 1.0000, 1.0000, 1.0000, 1.0000, 1.0000, 1.0000,\n",
      "        1.0000, 1.0000, 1.0000, 1.0000, 1.0000, 1.0000, 1.0000, 1.0000, 1.0000,\n",
      "        1.0000, 1.0000, 1.0000, 1.0000, 1.0000, 1.0000, 1.0000, 1.0000, 1.0000,\n",
      "        1.0000, 1.0000, 1.0000, 1.0000, 1.0000, 1.0000, 1.0000, 1.0000, 1.0000,\n",
      "        1.0000, 1.0000, 1.0000, 1.0000, 1.0000, 1.0000, 1.0000, 1.0000, 1.0000,\n",
      "        1.0000, 1.0000, 1.0000, 1.0000, 1.0000, 1.0000, 1.0000, 1.0000, 1.0000,\n",
      "        1.0000])\n"
     ]
    }
   ],
   "source": [
    "def softmax(x):\n",
    "    ## TODO: Implement the softmax function here\n",
    "    return torch.exp(x)/torch.sum(torch.exp(x), dim=1).view(-1,1)\n",
    "\n",
    "# Here, out should be the output of the network in the previous excercise with shape (64,10)\n",
    "probabilities = softmax(out)\n",
    "\n",
    "# Does it have the right shape? Should be (64, 10)\n",
    "print(probabilities.shape)\n",
    "# Does it sum to 1?\n",
    "print(probabilities.sum(dim=1))"
   ]
  },
  {
   "cell_type": "markdown",
   "metadata": {},
   "source": [
    "## Building networks with PyTorch\n",
    "\n",
    "PyTorch provides a module `nn` that makes building networks much simpler. Here I'll show you how to build the same one as above with 784 inputs, 256 hidden units, 10 output units and a softmax output."
   ]
  },
  {
   "cell_type": "code",
   "execution_count": 15,
   "metadata": {},
   "outputs": [],
   "source": [
    "from torch import nn"
   ]
  },
  {
   "cell_type": "code",
   "execution_count": 16,
   "metadata": {},
   "outputs": [],
   "source": [
    "class Network(nn.Module):\n",
    "    def __init__(self):\n",
    "        super().__init__()\n",
    "        \n",
    "        # Inputs to hidden layer linear transformation\n",
    "        self.hidden = nn.Linear(784, 256)\n",
    "        # Output layer, 10 units - one for each digit\n",
    "        self.output = nn.Linear(256, 10)\n",
    "        \n",
    "        # Define sigmoid activation and softmax output \n",
    "        self.sigmoid = nn.Sigmoid()\n",
    "        self.softmax = nn.Softmax(dim=1)\n",
    "        \n",
    "    def forward(self, x):\n",
    "        # Pass the input tensor through each of our operations\n",
    "        x = self.hidden(x)\n",
    "        x = self.sigmoid(x)\n",
    "        x = self.output(x)\n",
    "        x = self.softmax(x)\n",
    "        \n",
    "        return x"
   ]
  },
  {
   "cell_type": "markdown",
   "metadata": {},
   "source": [
    "Let's go through this bit by bit.\n",
    "\n",
    "```python\n",
    "class Network(nn.Module):\n",
    "```\n",
    "\n",
    "Here we're inheriting from `nn.Module`. Combined with `super().__init__()` this creates a class that tracks the architecture and provides a lot of useful methods and attributes. It is mandatory to inherit from `nn.Module` when you're creating a class for your network. The name of the class itself can be anything.\n",
    "\n",
    "```python\n",
    "self.hidden = nn.Linear(784, 256)\n",
    "```\n",
    "\n",
    "This line creates a module for a linear transformation, $x\\mathbf{W} + b$, with 784 inputs and 256 outputs and assigns it to `self.hidden`. The module automatically creates the weight and bias tensors which we'll use in the `forward` method. You can access the weight and bias tensors once the network (`net`) is created with `net.hidden.weight` and `net.hidden.bias`.\n",
    "\n",
    "```python\n",
    "self.output = nn.Linear(256, 10)\n",
    "```\n",
    "\n",
    "Similarly, this creates another linear transformation with 256 inputs and 10 outputs.\n",
    "\n",
    "```python\n",
    "self.sigmoid = nn.Sigmoid()\n",
    "self.softmax = nn.Softmax(dim=1)\n",
    "```\n",
    "\n",
    "Here I defined operations for the sigmoid activation and softmax output. Setting `dim=1` in `nn.Softmax(dim=1)` calculates softmax across the columns.\n",
    "\n",
    "```python\n",
    "def forward(self, x):\n",
    "```\n",
    "\n",
    "PyTorch networks created with `nn.Module` must have a `forward` method defined. It takes in a tensor `x` and passes it through the operations you defined in the `__init__` method.\n",
    "\n",
    "```python\n",
    "x = self.hidden(x)\n",
    "x = self.sigmoid(x)\n",
    "x = self.output(x)\n",
    "x = self.softmax(x)\n",
    "```\n",
    "\n",
    "Here the input tensor `x` is passed through each operation and reassigned to `x`. We can see that the input tensor goes through the hidden layer, then a sigmoid function, then the output layer, and finally the softmax function. It doesn't matter what you name the variables here, as long as the inputs and outputs of the operations match the network architecture you want to build. The order in which you define things in the `__init__` method doesn't matter, but you'll need to sequence the operations correctly in the `forward` method.\n",
    "\n",
    "Now we can create a `Network` object."
   ]
  },
  {
   "cell_type": "code",
   "execution_count": 17,
   "metadata": {},
   "outputs": [
    {
     "data": {
      "text/plain": [
       "Network(\n",
       "  (hidden): Linear(in_features=784, out_features=256, bias=True)\n",
       "  (output): Linear(in_features=256, out_features=10, bias=True)\n",
       "  (sigmoid): Sigmoid()\n",
       "  (softmax): Softmax(dim=1)\n",
       ")"
      ]
     },
     "execution_count": 17,
     "metadata": {},
     "output_type": "execute_result"
    }
   ],
   "source": [
    "# Create the network and look at it's text representation\n",
    "model = Network()\n",
    "model"
   ]
  },
  {
   "cell_type": "markdown",
   "metadata": {},
   "source": [
    "You can define the network somewhat more concisely and clearly using the `torch.nn.functional` module. This is the most common way you'll see networks defined as many operations are simple element-wise functions. We normally import this module as `F`, `import torch.nn.functional as F`."
   ]
  },
  {
   "cell_type": "code",
   "execution_count": 18,
   "metadata": {},
   "outputs": [],
   "source": [
    "import torch.nn.functional as F\n",
    "\n",
    "class Network(nn.Module):\n",
    "    def __init__(self):\n",
    "        super().__init__()\n",
    "        # Inputs to hidden layer linear transformation\n",
    "        self.hidden = nn.Linear(784, 256)\n",
    "        # Output layer, 10 units - one for each digit\n",
    "        self.output = nn.Linear(256, 10)\n",
    "        \n",
    "    def forward(self, x):\n",
    "        # Hidden layer with sigmoid activation\n",
    "        x = F.sigmoid(self.hidden(x))\n",
    "        # Output layer with softmax activation\n",
    "        x = F.softmax(self.output(x), dim=1)\n",
    "        \n",
    "        return x"
   ]
  },
  {
   "cell_type": "markdown",
   "metadata": {},
   "source": [
    "### Activation functions\n",
    "\n",
    "So far we've only been looking at the sigmoid activation function, but in general any function can be used as an activation function. The only requirement is that for a network to approximate a non-linear function, the activation functions must be non-linear. Here are a few more examples of common activation functions: Tanh (hyperbolic tangent), and ReLU (rectified linear unit).\n",
    "\n",
    "<img src=\"assets/activation.png\" width=700px>\n",
    "\n",
    "In practice, the ReLU function is used almost exclusively as the activation function for hidden layers."
   ]
  },
  {
   "cell_type": "markdown",
   "metadata": {},
   "source": [
    "### Your Turn to Build a Network\n",
    "\n",
    "<img src=\"assets/mlp_mnist.png\" width=600px>\n",
    "\n",
    "> **Exercise:** Create a network with 784 input units, a hidden layer with 128 units and a ReLU activation, then a hidden layer with 64 units and a ReLU activation, and finally an output layer with a softmax activation as shown above. You can use a ReLU activation with the `nn.ReLU` module or `F.relu` function.\n",
    "\n",
    "It's good practice to name your layers by their type of network, for instance 'fc' to represent a fully-connected layer. As you code your solution, use `fc1`, `fc2`, and `fc3` as your layer names."
   ]
  },
  {
   "cell_type": "code",
   "execution_count": 29,
   "metadata": {
    "scrolled": true
   },
   "outputs": [
    {
     "data": {
      "text/plain": [
       "my_Network(\n",
       "  (fc1): Linear(in_features=784, out_features=128, bias=True)\n",
       "  (fc2): Linear(in_features=128, out_features=64, bias=True)\n",
       "  (fc3): Linear(in_features=64, out_features=10, bias=True)\n",
       "  (relu): ReLU()\n",
       "  (softmax): Softmax(dim=1)\n",
       ")"
      ]
     },
     "execution_count": 29,
     "metadata": {},
     "output_type": "execute_result"
    }
   ],
   "source": [
    "## Your solution here\n",
    "\n",
    "class my_Network(nn.Module):\n",
    "    def __init__(self):\n",
    "        super().__init__()\n",
    "        \n",
    "        # Inputs to hidden layer linear transformation\n",
    "        self.fc1 = nn.Linear(784, 128)\n",
    "        # Inputs to hidden layer linear transformation\n",
    "        self.fc2 = nn.Linear(128, 64)\n",
    "        # Output layer, 10 units - one for each digit\n",
    "        self.fc3 = nn.Linear(64, 10)\n",
    "        \n",
    "        # Define sigmoid activation and softmax output \n",
    "        self.relu = nn.ReLU()\n",
    "        self.softmax = nn.Softmax(dim=1)\n",
    "        \n",
    "    def forward(self, x):\n",
    "        # Pass the input tensor through each of our operations\n",
    "        x = self.fc1(x)\n",
    "        x = self.relu(x)\n",
    "        x = self.fc2(x)\n",
    "        x = self.relu(x)\n",
    "        x = self.fc3(x)\n",
    "        x = self.softmax(x,dim=1)\n",
    "        \n",
    "        return x\n",
    "\n",
    "model = my_Network()\n",
    "model"
   ]
  },
  {
   "cell_type": "markdown",
   "metadata": {},
   "source": [
    "### Initializing weights and biases\n",
    "\n",
    "The weights and such are automatically initialized for you, but it's possible to customize how they are initialized. The weights and biases are tensors attached to the layer you defined, you can get them with `model.fc1.weight` for instance."
   ]
  },
  {
   "cell_type": "code",
   "execution_count": 32,
   "metadata": {},
   "outputs": [
    {
     "name": "stdout",
     "output_type": "stream",
     "text": [
      "Parameter containing:\n",
      "tensor([[-0.0104, -0.0086, -0.0034,  ...,  0.0163,  0.0007,  0.0254],\n",
      "        [-0.0280, -0.0282,  0.0341,  ..., -0.0024,  0.0211,  0.0084],\n",
      "        [-0.0232,  0.0093, -0.0272,  ..., -0.0095,  0.0057, -0.0080],\n",
      "        ...,\n",
      "        [-0.0315, -0.0189, -0.0278,  ..., -0.0341,  0.0231, -0.0291],\n",
      "        [ 0.0205,  0.0040,  0.0258,  ..., -0.0339,  0.0153,  0.0247],\n",
      "        [-0.0121,  0.0211,  0.0273,  ..., -0.0120,  0.0002, -0.0176]],\n",
      "       requires_grad=True)\n",
      "Parameter containing:\n",
      "tensor([-1.9870e-02,  9.6176e-03, -2.4402e-02, -1.2989e-02,  2.7951e-02,\n",
      "        -7.5356e-03,  3.1478e-02,  3.0792e-02,  9.1147e-03,  4.1633e-04,\n",
      "         2.2295e-02, -7.7755e-03,  1.1326e-02,  2.5464e-02,  9.0210e-03,\n",
      "        -2.2329e-02, -1.4044e-02, -1.2662e-02,  2.0703e-02,  3.1736e-05,\n",
      "         1.2587e-02,  1.1849e-02,  5.0354e-03, -3.1513e-02, -2.0680e-02,\n",
      "        -6.2221e-04,  1.0493e-02, -4.8836e-03,  8.7517e-03,  1.3183e-02,\n",
      "        -2.5142e-02,  2.1483e-02, -2.0115e-03, -1.2447e-02, -2.5708e-02,\n",
      "        -4.4838e-03, -1.0751e-03, -1.0828e-02,  1.0623e-02, -2.7279e-02,\n",
      "        -4.2767e-03, -4.5071e-03,  2.8296e-02,  3.9449e-04, -1.4794e-02,\n",
      "        -2.1917e-02, -1.3605e-02,  3.1851e-03,  2.3406e-02, -2.2954e-02,\n",
      "        -2.8962e-02, -2.6159e-02,  1.2418e-02,  1.3037e-02, -5.6004e-03,\n",
      "         1.6000e-02, -9.8006e-03,  5.9380e-03,  3.1472e-02,  3.4691e-02,\n",
      "         2.2464e-02, -3.5241e-02, -1.3158e-02, -3.1513e-02, -1.1165e-03,\n",
      "         6.4767e-03,  2.0565e-02, -3.4260e-02,  3.4611e-02, -3.4974e-02,\n",
      "         2.2549e-02, -2.6659e-02, -2.1002e-02, -9.6426e-03, -3.1030e-02,\n",
      "        -1.5338e-02, -1.1254e-02,  2.4110e-02,  2.2916e-02,  7.4954e-03,\n",
      "        -6.8654e-03,  2.3059e-02, -6.2609e-03, -3.3089e-02,  3.5409e-02,\n",
      "         1.1578e-02,  1.6023e-02, -3.4795e-02,  2.7118e-02,  1.9442e-02,\n",
      "         2.5582e-02, -1.0404e-02, -2.4895e-02,  2.5712e-02,  9.5414e-03,\n",
      "         1.4093e-03,  2.9680e-02, -1.3313e-02, -2.5037e-02,  2.2769e-02,\n",
      "         7.2158e-04, -2.8642e-03,  2.8911e-02, -9.9038e-03, -1.0120e-02,\n",
      "        -2.9567e-02, -1.5332e-02,  1.3691e-03, -2.3286e-02,  1.3174e-02,\n",
      "        -1.6162e-02, -3.0451e-02,  2.3406e-02,  1.2553e-03, -5.0373e-03,\n",
      "        -2.9160e-02, -1.3607e-02, -1.2238e-02, -5.7932e-03,  7.3211e-03,\n",
      "        -1.3439e-02,  1.1092e-02,  2.5215e-02, -1.8061e-02,  2.6325e-02,\n",
      "        -1.1537e-02, -2.1611e-02, -1.9818e-02], requires_grad=True)\n"
     ]
    }
   ],
   "source": [
    "print(model.fc1.weight)\n",
    "print(model.fc1.bias)"
   ]
  },
  {
   "cell_type": "markdown",
   "metadata": {},
   "source": [
    "For custom initialization, we want to modify these tensors in place. These are actually autograd *Variables*, so we need to get back the actual tensors with `model.fc1.weight.data`. Once we have the tensors, we can fill them with zeros (for biases) or random normal values."
   ]
  },
  {
   "cell_type": "code",
   "execution_count": 22,
   "metadata": {},
   "outputs": [
    {
     "data": {
      "text/plain": [
       "tensor([0., 0., 0., 0., 0., 0., 0., 0., 0., 0., 0., 0., 0., 0., 0., 0., 0., 0., 0., 0., 0., 0., 0., 0.,\n",
       "        0., 0., 0., 0., 0., 0., 0., 0., 0., 0., 0., 0., 0., 0., 0., 0., 0., 0., 0., 0., 0., 0., 0., 0.,\n",
       "        0., 0., 0., 0., 0., 0., 0., 0., 0., 0., 0., 0., 0., 0., 0., 0., 0., 0., 0., 0., 0., 0., 0., 0.,\n",
       "        0., 0., 0., 0., 0., 0., 0., 0., 0., 0., 0., 0., 0., 0., 0., 0., 0., 0., 0., 0., 0., 0., 0., 0.,\n",
       "        0., 0., 0., 0., 0., 0., 0., 0., 0., 0., 0., 0., 0., 0., 0., 0., 0., 0., 0., 0., 0., 0., 0., 0.,\n",
       "        0., 0., 0., 0., 0., 0., 0., 0.])"
      ]
     },
     "execution_count": 22,
     "metadata": {},
     "output_type": "execute_result"
    }
   ],
   "source": [
    "# Set biases to all zeros\n",
    "model.fc1.bias.data.fill_(0)"
   ]
  },
  {
   "cell_type": "code",
   "execution_count": 23,
   "metadata": {},
   "outputs": [
    {
     "data": {
      "text/plain": [
       "tensor([[-0.0135, -0.0032, -0.0015,  ...,  0.0101,  0.0039, -0.0019],\n",
       "        [ 0.0079, -0.0029,  0.0034,  ..., -0.0013,  0.0033,  0.0274],\n",
       "        [-0.0022,  0.0187,  0.0045,  ...,  0.0065,  0.0051,  0.0108],\n",
       "        ...,\n",
       "        [-0.0097, -0.0186, -0.0120,  ...,  0.0040,  0.0017,  0.0126],\n",
       "        [-0.0042, -0.0210,  0.0038,  ..., -0.0098, -0.0041,  0.0134],\n",
       "        [-0.0038,  0.0003, -0.0028,  ...,  0.0006,  0.0044,  0.0062]])"
      ]
     },
     "execution_count": 23,
     "metadata": {},
     "output_type": "execute_result"
    }
   ],
   "source": [
    "# sample from random normal with standard dev = 0.01\n",
    "model.fc1.weight.data.normal_(std=0.01)"
   ]
  },
  {
   "cell_type": "markdown",
   "metadata": {},
   "source": [
    "### Forward pass\n",
    "\n",
    "Now that we have a network, let's see what happens when we pass in an image."
   ]
  },
  {
   "cell_type": "code",
   "execution_count": 24,
   "metadata": {},
   "outputs": [
    {
     "data": {
      "image/png": "[encoded data removed]",
      "text/plain": [
       "<Figure size 432x648 with 2 Axes>"
      ]
     },
     "metadata": {
      "image/png": {
       "height": 235,
       "width": 424
      },
      "needs_background": "light"
     },
     "output_type": "display_data"
    }
   ],
   "source": [
    "# Grab some data \n",
    "dataiter = iter(trainloader)\n",
    "images, labels = dataiter.next()\n",
    "\n",
    "# Resize images into a 1D vector, new shape is (batch size, color channels, image pixels) \n",
    "images.resize_(64, 1, 784)\n",
    "# or images.resize_(images.shape[0], 1, 784) to automatically get batch size\n",
    "\n",
    "# Forward pass through the network\n",
    "img_idx = 0\n",
    "ps = model.forward(images[img_idx,:])\n",
    "\n",
    "img = images[img_idx]\n",
    "helper.view_classify(img.view(1, 28, 28), ps)"
   ]
  },
  {
   "cell_type": "markdown",
   "metadata": {},
   "source": [
    "As you can see above, our network has basically no idea what this digit is. It's because we haven't trained it yet, all the weights are random!\n",
    "\n",
    "### Using `nn.Sequential`\n",
    "\n",
    "PyTorch provides a convenient way to build networks like this where a tensor is passed sequentially through operations, `nn.Sequential` ([documentation](https://pytorch.org/docs/master/nn.html#torch.nn.Sequential)). Using this to build the equivalent network:"
   ]
  },
  {
   "cell_type": "code",
   "execution_count": 25,
   "metadata": {},
   "outputs": [
    {
     "name": "stdout",
     "output_type": "stream",
     "text": [
      "Sequential(\n",
      "  (0): Linear(in_features=784, out_features=128, bias=True)\n",
      "  (1): ReLU()\n",
      "  (2): Linear(in_features=128, out_features=64, bias=True)\n",
      "  (3): ReLU()\n",
      "  (4): Linear(in_features=64, out_features=10, bias=True)\n",
      "  (5): Softmax(dim=1)\n",
      ")\n"
     ]
    },
    {
     "data": {
      "image/png": "[encoded data removed]",
      "text/plain": [
       "<Figure size 432x648 with 2 Axes>"
      ]
     },
     "metadata": {
      "image/png": {
       "height": 235,
       "width": 424
      },
      "needs_background": "light"
     },
     "output_type": "display_data"
    }
   ],
   "source": [
    "# Hyperparameters for our network\n",
    "input_size = 784\n",
    "hidden_sizes = [128, 64]\n",
    "output_size = 10\n",
    "\n",
    "# Build a feed-forward network\n",
    "model = nn.Sequential(nn.Linear(input_size, hidden_sizes[0]),\n",
    "                      nn.ReLU(),\n",
    "                      nn.Linear(hidden_sizes[0], hidden_sizes[1]),\n",
    "                      nn.ReLU(),\n",
    "                      nn.Linear(hidden_sizes[1], output_size),\n",
    "                      nn.Softmax(dim=1))\n",
    "print(model)\n",
    "\n",
    "# Forward pass through the network and display output\n",
    "images, labels = next(iter(trainloader))\n",
    "images.resize_(images.shape[0], 1, 784)\n",
    "ps = model.forward(images[0,:])\n",
    "helper.view_classify(images[0].view(1, 28, 28), ps)"
   ]
  },
  {
   "cell_type": "markdown",
   "metadata": {},
   "source": [
    "Here our model is the same as before: 784 input units, a hidden layer with 128 units, ReLU activation, 64 unit hidden layer, another ReLU, then the output layer with 10 units, and the softmax output.\n",
    "\n",
    "The operations are available by passing in the appropriate index. For example, if you want to get first Linear operation and look at the weights, you'd use `model[0]`."
   ]
  },
  {
   "cell_type": "code",
   "execution_count": 26,
   "metadata": {},
   "outputs": [
    {
     "name": "stdout",
     "output_type": "stream",
     "text": [
      "Linear(in_features=784, out_features=128, bias=True)\n"
     ]
    },
    {
     "data": {
      "text/plain": [
       "Parameter containing:\n",
       "tensor([[ 0.0157, -0.0145, -0.0135,  ..., -0.0243,  0.0220, -0.0318],\n",
       "        [-0.0314,  0.0171, -0.0275,  ...,  0.0243,  0.0197,  0.0089],\n",
       "        [-0.0225, -0.0105,  0.0196,  ...,  0.0015, -0.0318, -0.0037],\n",
       "        ...,\n",
       "        [ 0.0273,  0.0232, -0.0140,  ..., -0.0142,  0.0127,  0.0232],\n",
       "        [ 0.0194, -0.0251, -0.0067,  ...,  0.0258, -0.0152,  0.0220],\n",
       "        [-0.0106, -0.0298, -0.0295,  ..., -0.0226, -0.0099, -0.0019]],\n",
       "       requires_grad=True)"
      ]
     },
     "execution_count": 26,
     "metadata": {},
     "output_type": "execute_result"
    }
   ],
   "source": [
    "print(model[0])\n",
    "model[0].weight"
   ]
  },
  {
   "cell_type": "markdown",
   "metadata": {},
   "source": [
    "You can also pass in an `OrderedDict` to name the individual layers and operations, instead of using incremental integers. Note that dictionary keys must be unique, so _each operation must have a different name_."
   ]
  },
  {
   "cell_type": "code",
   "execution_count": 27,
   "metadata": {},
   "outputs": [
    {
     "data": {
      "text/plain": [
       "Sequential(\n",
       "  (fc1): Linear(in_features=784, out_features=128, bias=True)\n",
       "  (relu1): ReLU()\n",
       "  (fc2): Linear(in_features=128, out_features=64, bias=True)\n",
       "  (relu2): ReLU()\n",
       "  (output): Linear(in_features=64, out_features=10, bias=True)\n",
       "  (softmax): Softmax(dim=1)\n",
       ")"
      ]
     },
     "execution_count": 27,
     "metadata": {},
     "output_type": "execute_result"
    }
   ],
   "source": [
    "from collections import OrderedDict\n",
    "model = nn.Sequential(OrderedDict([\n",
    "                      ('fc1', nn.Linear(input_size, hidden_sizes[0])),\n",
    "                      ('relu1', nn.ReLU()),\n",
    "                      ('fc2', nn.Linear(hidden_sizes[0], hidden_sizes[1])),\n",
    "                      ('relu2', nn.ReLU()),\n",
    "                      ('output', nn.Linear(hidden_sizes[1], output_size)),\n",
    "                      ('softmax', nn.Softmax(dim=1))]))\n",
    "model"
   ]
  },
  {
   "cell_type": "markdown",
   "metadata": {},
   "source": [
    "Now you can access layers either by integer or the name"
   ]
  },
  {
   "cell_type": "code",
   "execution_count": 28,
   "metadata": {},
   "outputs": [
    {
     "name": "stdout",
     "output_type": "stream",
     "text": [
      "Linear(in_features=784, out_features=128, bias=True)\n",
      "Linear(in_features=784, out_features=128, bias=True)\n"
     ]
    }
   ],
   "source": [
    "print(model[0])\n",
    "print(model.fc1)"
   ]
  },
  {
   "cell_type": "markdown",
   "metadata": {},
   "source": [
    "In the next notebook, we'll see how we can train a neural network to accuractly predict the numbers appearing in the MNIST images."
   ]
  },
  {
   "cell_type": "code",
   "execution_count": null,
   "metadata": {},
   "outputs": [],
   "source": []
  }
 ],
 "metadata": {
  "kernelspec": {
   "display_name": "Python 3",
   "language": "python",
   "name": "python3"
  },
  "language_info": {
   "codemirror_mode": {
    "name": "ipython",
    "version": 3
   },
   "file_extension": ".py",
   "mimetype": "text/x-python",
   "name": "python",
   "nbconvert_exporter": "python",
   "pygments_lexer": "ipython3",
   "version": "3.7.4"
  }
 },
 "nbformat": 4,
 "nbformat_minor": 2
}
